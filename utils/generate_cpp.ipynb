{
 "cells": [
  {
   "cell_type": "code",
   "execution_count": 10,
   "metadata": {},
   "outputs": [],
   "source": [
    "path = \"../docs/snippets\""
   ]
  },
  {
   "cell_type": "code",
   "execution_count": 11,
   "metadata": {},
   "outputs": [],
   "source": [
    "# get all files in the snippets directory\n",
    "import os\n",
    "\n",
    "files = os.listdir(path)\n",
    "\n",
    "# turn the python files into cpp files in the folder cpp\n",
    "\n",
    "content = \"\"\"#include <iostream>\n",
    "#include <vector>\n",
    "using namespace std;\n",
    "\n",
    "int main()\n",
    "{\n",
    "    return 0;\n",
    "}\n",
    "\"\"\"\n",
    "\n",
    "\n",
    "\n",
    "for pyfile in files:\n",
    "    if pyfile.endswith(\".py\"):\n",
    "        cppfile = pyfile.replace(\".py\", \".ts\")\n",
    "        # create the cpp empty file\n",
    "        new_file = os.path.join(path, \"ts\", cppfile)\n",
    "\n",
    "        with open(new_file, \"w\") as f:\n",
    "            f.write(\"\")\n",
    "\n",
    "            f.close()"
   ]
  }
 ],
 "metadata": {
  "kernelspec": {
   "display_name": ".venv",
   "language": "python",
   "name": "python3"
  },
  "language_info": {
   "codemirror_mode": {
    "name": "ipython",
    "version": 3
   },
   "file_extension": ".py",
   "mimetype": "text/x-python",
   "name": "python",
   "nbconvert_exporter": "python",
   "pygments_lexer": "ipython3",
   "version": "3.12.7"
  }
 },
 "nbformat": 4,
 "nbformat_minor": 2
}
